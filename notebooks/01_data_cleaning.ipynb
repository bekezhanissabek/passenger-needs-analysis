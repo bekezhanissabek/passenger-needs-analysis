{
 "cells": [
  {
   "cell_type": "code",
   "execution_count": 56,
   "id": "dacda728-ddbc-4d34-aba9-ac79da5ed6d0",
   "metadata": {},
   "outputs": [],
   "source": [
    "import pandas as pd\n",
    "import re\n",
    "import nltk\n",
    "from nltk.corpus import stopwords"
   ]
  },
  {
   "cell_type": "code",
   "execution_count": 64,
   "id": "1c32e598-4b04-4d36-a912-ed4c1782e384",
   "metadata": {},
   "outputs": [
    {
     "name": "stderr",
     "output_type": "stream",
     "text": [
      "[nltk_data] Downloading package stopwords to\n",
      "[nltk_data]     /Users/bekezhanissabek/nltk_data...\n",
      "[nltk_data]   Package stopwords is already up-to-date!\n"
     ]
    }
   ],
   "source": [
    "# nltk variables\n",
    "\n",
    "nltk.download('stopwords')\n",
    "stop_words = set(stopwords.words('english'))"
   ]
  },
  {
   "cell_type": "code",
   "execution_count": 63,
   "id": "0b0bfda6-a4f7-4c2e-bedb-6826e3b512b0",
   "metadata": {},
   "outputs": [
    {
     "name": "stderr",
     "output_type": "stream",
     "text": [
      "[nltk_data] Downloading package stopwords to\n",
      "[nltk_data]     /Users/bekezhanissabek/nltk_data...\n",
      "[nltk_data]   Package stopwords is already up-to-date!\n"
     ]
    }
   ],
   "source": [
    "## All methods\n",
    "\n",
    "def clean_text(text):\n",
    "    text = re.sub(r'[^a-zA-Z\\s]', '', text) \n",
    "    text = text.strip()\n",
    "    return text\n",
    "    \n",
    "def remove_stopwords(text):\n",
    "    words = text.split()\n",
    "    filtered_text = [word for word in words if word not in stop_words]\n",
    "    return ' '.join(filtered_text)\n",
    "\n",
    "def remove_special_chars(text):\n",
    "    return re.sub(r'[^\\x00-\\x7F]+', '', text)\n"
   ]
  },
  {
   "cell_type": "code",
   "execution_count": 30,
   "id": "bc0f78a4-2a7c-4c8b-a645-f8fe96990f22",
   "metadata": {},
   "outputs": [],
   "source": [
    "data = pd.read_excel('../data/raw/capstone_airline_reviews3.xlsx')"
   ]
  },
  {
   "cell_type": "code",
   "execution_count": 31,
   "id": "a81dbf53-19ae-4889-99c7-4ac75b2e162d",
   "metadata": {},
   "outputs": [
    {
     "data": {
      "text/html": [
       "<div>\n",
       "<style scoped>\n",
       "    .dataframe tbody tr th:only-of-type {\n",
       "        vertical-align: middle;\n",
       "    }\n",
       "\n",
       "    .dataframe tbody tr th {\n",
       "        vertical-align: top;\n",
       "    }\n",
       "\n",
       "    .dataframe thead th {\n",
       "        text-align: right;\n",
       "    }\n",
       "</style>\n",
       "<table border=\"1\" class=\"dataframe\">\n",
       "  <thead>\n",
       "    <tr style=\"text-align: right;\">\n",
       "      <th></th>\n",
       "      <th>airline</th>\n",
       "      <th>overall</th>\n",
       "      <th>author</th>\n",
       "      <th>review_date</th>\n",
       "      <th>customer_review</th>\n",
       "      <th>aircraft</th>\n",
       "      <th>traveller_type</th>\n",
       "      <th>cabin</th>\n",
       "      <th>route</th>\n",
       "      <th>date_flown</th>\n",
       "      <th>seat_comfort</th>\n",
       "      <th>cabin_service</th>\n",
       "      <th>food_bev</th>\n",
       "      <th>entertainment</th>\n",
       "      <th>ground_service</th>\n",
       "      <th>value_for_money</th>\n",
       "      <th>recommended</th>\n",
       "    </tr>\n",
       "  </thead>\n",
       "  <tbody>\n",
       "    <tr>\n",
       "      <th>0</th>\n",
       "      <td>NaN</td>\n",
       "      <td>NaN</td>\n",
       "      <td>NaN</td>\n",
       "      <td>NaN</td>\n",
       "      <td>NaN</td>\n",
       "      <td>NaN</td>\n",
       "      <td>NaN</td>\n",
       "      <td>NaN</td>\n",
       "      <td>NaN</td>\n",
       "      <td>NaN</td>\n",
       "      <td>NaN</td>\n",
       "      <td>NaN</td>\n",
       "      <td>NaN</td>\n",
       "      <td>NaN</td>\n",
       "      <td>NaN</td>\n",
       "      <td>NaN</td>\n",
       "      <td>NaN</td>\n",
       "    </tr>\n",
       "    <tr>\n",
       "      <th>1</th>\n",
       "      <td>Turkish Airlines</td>\n",
       "      <td>7.0</td>\n",
       "      <td>Christopher Hackley</td>\n",
       "      <td>8th May 2019</td>\n",
       "      <td>âœ… Trip Verified | London to Izmir via Istanb...</td>\n",
       "      <td>NaN</td>\n",
       "      <td>Business</td>\n",
       "      <td>Economy Class</td>\n",
       "      <td>London to Izmir via Istanbul</td>\n",
       "      <td>2019-05-01 00:00:00</td>\n",
       "      <td>4.0</td>\n",
       "      <td>5.0</td>\n",
       "      <td>4.0</td>\n",
       "      <td>4.0</td>\n",
       "      <td>2.0</td>\n",
       "      <td>4.0</td>\n",
       "      <td>yes</td>\n",
       "    </tr>\n",
       "    <tr>\n",
       "      <th>2</th>\n",
       "      <td>NaN</td>\n",
       "      <td>NaN</td>\n",
       "      <td>NaN</td>\n",
       "      <td>NaN</td>\n",
       "      <td>NaN</td>\n",
       "      <td>NaN</td>\n",
       "      <td>NaN</td>\n",
       "      <td>NaN</td>\n",
       "      <td>NaN</td>\n",
       "      <td>NaN</td>\n",
       "      <td>NaN</td>\n",
       "      <td>NaN</td>\n",
       "      <td>NaN</td>\n",
       "      <td>NaN</td>\n",
       "      <td>NaN</td>\n",
       "      <td>NaN</td>\n",
       "      <td>NaN</td>\n",
       "    </tr>\n",
       "    <tr>\n",
       "      <th>3</th>\n",
       "      <td>Turkish Airlines</td>\n",
       "      <td>2.0</td>\n",
       "      <td>Adriana Pisoi</td>\n",
       "      <td>7th May 2019</td>\n",
       "      <td>âœ… Trip Verified | Istanbul to Bucharest. We ...</td>\n",
       "      <td>NaN</td>\n",
       "      <td>Family Leisure</td>\n",
       "      <td>Economy Class</td>\n",
       "      <td>Istanbul to Bucharest</td>\n",
       "      <td>2019-05-01 00:00:00</td>\n",
       "      <td>4.0</td>\n",
       "      <td>1.0</td>\n",
       "      <td>1.0</td>\n",
       "      <td>1.0</td>\n",
       "      <td>1.0</td>\n",
       "      <td>1.0</td>\n",
       "      <td>no</td>\n",
       "    </tr>\n",
       "    <tr>\n",
       "      <th>4</th>\n",
       "      <td>NaN</td>\n",
       "      <td>NaN</td>\n",
       "      <td>NaN</td>\n",
       "      <td>NaN</td>\n",
       "      <td>NaN</td>\n",
       "      <td>NaN</td>\n",
       "      <td>NaN</td>\n",
       "      <td>NaN</td>\n",
       "      <td>NaN</td>\n",
       "      <td>NaN</td>\n",
       "      <td>NaN</td>\n",
       "      <td>NaN</td>\n",
       "      <td>NaN</td>\n",
       "      <td>NaN</td>\n",
       "      <td>NaN</td>\n",
       "      <td>NaN</td>\n",
       "      <td>NaN</td>\n",
       "    </tr>\n",
       "  </tbody>\n",
       "</table>\n",
       "</div>"
      ],
      "text/plain": [
       "            airline  overall               author   review_date  \\\n",
       "0               NaN      NaN                  NaN           NaN   \n",
       "1  Turkish Airlines      7.0  Christopher Hackley  8th May 2019   \n",
       "2               NaN      NaN                  NaN           NaN   \n",
       "3  Turkish Airlines      2.0        Adriana Pisoi  7th May 2019   \n",
       "4               NaN      NaN                  NaN           NaN   \n",
       "\n",
       "                                     customer_review aircraft  traveller_type  \\\n",
       "0                                                NaN      NaN             NaN   \n",
       "1  âœ… Trip Verified | London to Izmir via Istanb...      NaN        Business   \n",
       "2                                                NaN      NaN             NaN   \n",
       "3  âœ… Trip Verified | Istanbul to Bucharest. We ...      NaN  Family Leisure   \n",
       "4                                                NaN      NaN             NaN   \n",
       "\n",
       "           cabin                         route           date_flown  \\\n",
       "0            NaN                           NaN                  NaN   \n",
       "1  Economy Class  London to Izmir via Istanbul  2019-05-01 00:00:00   \n",
       "2            NaN                           NaN                  NaN   \n",
       "3  Economy Class         Istanbul to Bucharest  2019-05-01 00:00:00   \n",
       "4            NaN                           NaN                  NaN   \n",
       "\n",
       "   seat_comfort  cabin_service  food_bev  entertainment  ground_service  \\\n",
       "0           NaN            NaN       NaN            NaN             NaN   \n",
       "1           4.0            5.0       4.0            4.0             2.0   \n",
       "2           NaN            NaN       NaN            NaN             NaN   \n",
       "3           4.0            1.0       1.0            1.0             1.0   \n",
       "4           NaN            NaN       NaN            NaN             NaN   \n",
       "\n",
       "   value_for_money recommended  \n",
       "0              NaN         NaN  \n",
       "1              4.0         yes  \n",
       "2              NaN         NaN  \n",
       "3              1.0          no  \n",
       "4              NaN         NaN  "
      ]
     },
     "execution_count": 31,
     "metadata": {},
     "output_type": "execute_result"
    }
   ],
   "source": [
    "data.head()"
   ]
  },
  {
   "cell_type": "code",
   "execution_count": 32,
   "id": "4067b9cf-03d2-4a80-be83-7e7fac9f2301",
   "metadata": {},
   "outputs": [
    {
     "data": {
      "text/plain": [
       "(131895, 17)"
      ]
     },
     "execution_count": 32,
     "metadata": {},
     "output_type": "execute_result"
    }
   ],
   "source": [
    "data.shape"
   ]
  },
  {
   "cell_type": "code",
   "execution_count": 33,
   "id": "020abc6b-510c-46b7-819a-de03c0e045f0",
   "metadata": {},
   "outputs": [
    {
     "name": "stdout",
     "output_type": "stream",
     "text": [
      "<class 'pandas.core.frame.DataFrame'>\n",
      "RangeIndex: 131895 entries, 0 to 131894\n",
      "Data columns (total 17 columns):\n",
      " #   Column           Non-Null Count  Dtype  \n",
      "---  ------           --------------  -----  \n",
      " 0   airline          65947 non-null  object \n",
      " 1   overall          64017 non-null  float64\n",
      " 2   author           65947 non-null  object \n",
      " 3   review_date      65947 non-null  object \n",
      " 4   customer_review  65947 non-null  object \n",
      " 5   aircraft         19718 non-null  object \n",
      " 6   traveller_type   39755 non-null  object \n",
      " 7   cabin            63303 non-null  object \n",
      " 8   route            39726 non-null  object \n",
      " 9   date_flown       39633 non-null  object \n",
      " 10  seat_comfort     60681 non-null  float64\n",
      " 11  cabin_service    60715 non-null  float64\n",
      " 12  food_bev         52608 non-null  float64\n",
      " 13  entertainment    44193 non-null  float64\n",
      " 14  ground_service   39358 non-null  float64\n",
      " 15  value_for_money  63975 non-null  float64\n",
      " 16  recommended      64440 non-null  object \n",
      "dtypes: float64(7), object(10)\n",
      "memory usage: 17.1+ MB\n"
     ]
    }
   ],
   "source": [
    "data.info()"
   ]
  },
  {
   "cell_type": "code",
   "execution_count": 34,
   "id": "63a3bffb-64b4-4d4e-8922-46b0b7900bd2",
   "metadata": {},
   "outputs": [
    {
     "data": {
      "text/html": [
       "<div>\n",
       "<style scoped>\n",
       "    .dataframe tbody tr th:only-of-type {\n",
       "        vertical-align: middle;\n",
       "    }\n",
       "\n",
       "    .dataframe tbody tr th {\n",
       "        vertical-align: top;\n",
       "    }\n",
       "\n",
       "    .dataframe thead th {\n",
       "        text-align: right;\n",
       "    }\n",
       "</style>\n",
       "<table border=\"1\" class=\"dataframe\">\n",
       "  <thead>\n",
       "    <tr style=\"text-align: right;\">\n",
       "      <th></th>\n",
       "      <th>overall</th>\n",
       "      <th>seat_comfort</th>\n",
       "      <th>cabin_service</th>\n",
       "      <th>food_bev</th>\n",
       "      <th>entertainment</th>\n",
       "      <th>ground_service</th>\n",
       "      <th>value_for_money</th>\n",
       "    </tr>\n",
       "  </thead>\n",
       "  <tbody>\n",
       "    <tr>\n",
       "      <th>count</th>\n",
       "      <td>64017.000000</td>\n",
       "      <td>60681.000000</td>\n",
       "      <td>60715.000000</td>\n",
       "      <td>52608.000000</td>\n",
       "      <td>44193.000000</td>\n",
       "      <td>39358.000000</td>\n",
       "      <td>63975.000000</td>\n",
       "    </tr>\n",
       "    <tr>\n",
       "      <th>mean</th>\n",
       "      <td>5.145430</td>\n",
       "      <td>2.952160</td>\n",
       "      <td>3.191814</td>\n",
       "      <td>2.908170</td>\n",
       "      <td>2.863372</td>\n",
       "      <td>2.692820</td>\n",
       "      <td>2.943962</td>\n",
       "    </tr>\n",
       "    <tr>\n",
       "      <th>std</th>\n",
       "      <td>3.477532</td>\n",
       "      <td>1.441362</td>\n",
       "      <td>1.565789</td>\n",
       "      <td>1.481893</td>\n",
       "      <td>1.507262</td>\n",
       "      <td>1.612215</td>\n",
       "      <td>1.587370</td>\n",
       "    </tr>\n",
       "    <tr>\n",
       "      <th>min</th>\n",
       "      <td>1.000000</td>\n",
       "      <td>1.000000</td>\n",
       "      <td>1.000000</td>\n",
       "      <td>1.000000</td>\n",
       "      <td>1.000000</td>\n",
       "      <td>1.000000</td>\n",
       "      <td>1.000000</td>\n",
       "    </tr>\n",
       "    <tr>\n",
       "      <th>25%</th>\n",
       "      <td>1.000000</td>\n",
       "      <td>1.000000</td>\n",
       "      <td>2.000000</td>\n",
       "      <td>1.000000</td>\n",
       "      <td>1.000000</td>\n",
       "      <td>1.000000</td>\n",
       "      <td>1.000000</td>\n",
       "    </tr>\n",
       "    <tr>\n",
       "      <th>50%</th>\n",
       "      <td>5.000000</td>\n",
       "      <td>3.000000</td>\n",
       "      <td>3.000000</td>\n",
       "      <td>3.000000</td>\n",
       "      <td>3.000000</td>\n",
       "      <td>3.000000</td>\n",
       "      <td>3.000000</td>\n",
       "    </tr>\n",
       "    <tr>\n",
       "      <th>75%</th>\n",
       "      <td>9.000000</td>\n",
       "      <td>4.000000</td>\n",
       "      <td>5.000000</td>\n",
       "      <td>4.000000</td>\n",
       "      <td>4.000000</td>\n",
       "      <td>4.000000</td>\n",
       "      <td>4.000000</td>\n",
       "    </tr>\n",
       "    <tr>\n",
       "      <th>max</th>\n",
       "      <td>10.000000</td>\n",
       "      <td>5.000000</td>\n",
       "      <td>5.000000</td>\n",
       "      <td>5.000000</td>\n",
       "      <td>5.000000</td>\n",
       "      <td>5.000000</td>\n",
       "      <td>5.000000</td>\n",
       "    </tr>\n",
       "  </tbody>\n",
       "</table>\n",
       "</div>"
      ],
      "text/plain": [
       "            overall  seat_comfort  cabin_service      food_bev  entertainment  \\\n",
       "count  64017.000000  60681.000000   60715.000000  52608.000000   44193.000000   \n",
       "mean       5.145430      2.952160       3.191814      2.908170       2.863372   \n",
       "std        3.477532      1.441362       1.565789      1.481893       1.507262   \n",
       "min        1.000000      1.000000       1.000000      1.000000       1.000000   \n",
       "25%        1.000000      1.000000       2.000000      1.000000       1.000000   \n",
       "50%        5.000000      3.000000       3.000000      3.000000       3.000000   \n",
       "75%        9.000000      4.000000       5.000000      4.000000       4.000000   \n",
       "max       10.000000      5.000000       5.000000      5.000000       5.000000   \n",
       "\n",
       "       ground_service  value_for_money  \n",
       "count    39358.000000     63975.000000  \n",
       "mean         2.692820         2.943962  \n",
       "std          1.612215         1.587370  \n",
       "min          1.000000         1.000000  \n",
       "25%          1.000000         1.000000  \n",
       "50%          3.000000         3.000000  \n",
       "75%          4.000000         4.000000  \n",
       "max          5.000000         5.000000  "
      ]
     },
     "execution_count": 34,
     "metadata": {},
     "output_type": "execute_result"
    }
   ],
   "source": [
    "data.describe()"
   ]
  },
  {
   "cell_type": "markdown",
   "id": "d643caca-47f8-43d3-a1a3-76fd85a7119c",
   "metadata": {},
   "source": [
    "<h2>Data cleaning</h2>"
   ]
  },
  {
   "cell_type": "code",
   "execution_count": 35,
   "id": "e48256dc-bd84-437f-aada-193449218452",
   "metadata": {},
   "outputs": [
    {
     "name": "stdout",
     "output_type": "stream",
     "text": [
      "Count of null data:\n",
      "airline             65948\n",
      "overall             67878\n",
      "author              65948\n",
      "review_date         65948\n",
      "customer_review     65948\n",
      "aircraft           112177\n",
      "traveller_type      92140\n",
      "cabin               68592\n",
      "route               92169\n",
      "date_flown          92262\n",
      "seat_comfort        71214\n",
      "cabin_service       71180\n",
      "food_bev            79287\n",
      "entertainment       87702\n",
      "ground_service      92537\n",
      "value_for_money     67920\n",
      "recommended         67455\n",
      "dtype: int64\n"
     ]
    }
   ],
   "source": [
    "print(f\"Count of null data:\\n{data.isnull().sum()}\")"
   ]
  },
  {
   "cell_type": "code",
   "execution_count": 36,
   "id": "c9e6b081-4b29-4eb6-9ed7-9e3f96b92586",
   "metadata": {},
   "outputs": [
    {
     "name": "stdout",
     "output_type": "stream",
     "text": [
      "Count of duplicated data: \n",
      "70711\n"
     ]
    }
   ],
   "source": [
    "print(f\"Count of duplicated data: \\n{data.duplicated().sum()}\")"
   ]
  },
  {
   "cell_type": "code",
   "execution_count": 37,
   "id": "3dc867e1-7f7a-43ad-918c-c5760b4cb7c5",
   "metadata": {},
   "outputs": [
    {
     "data": {
      "text/plain": [
       "airline            0\n",
       "overall            0\n",
       "author             0\n",
       "review_date        0\n",
       "customer_review    0\n",
       "aircraft           0\n",
       "traveller_type     0\n",
       "cabin              0\n",
       "route              0\n",
       "date_flown         0\n",
       "seat_comfort       0\n",
       "cabin_service      0\n",
       "food_bev           0\n",
       "entertainment      0\n",
       "ground_service     0\n",
       "value_for_money    0\n",
       "recommended        0\n",
       "dtype: int64"
      ]
     },
     "execution_count": 37,
     "metadata": {},
     "output_type": "execute_result"
    }
   ],
   "source": [
    "data.dropna(inplace=True)\n",
    "data.drop_duplicates(inplace=True)\n",
    "\n",
    "data.isnull().sum()"
   ]
  },
  {
   "cell_type": "code",
   "execution_count": 38,
   "id": "5a3624a8-d295-41c7-8a35-701954efe755",
   "metadata": {},
   "outputs": [
    {
     "data": {
      "text/plain": [
       "0"
      ]
     },
     "execution_count": 38,
     "metadata": {},
     "output_type": "execute_result"
    }
   ],
   "source": [
    "data.duplicated().sum()"
   ]
  },
  {
   "cell_type": "code",
   "execution_count": 39,
   "id": "dff6c479-d290-49ff-aef1-6f3cbe0989ed",
   "metadata": {},
   "outputs": [
    {
     "data": {
      "text/plain": [
       "(13189, 17)"
      ]
     },
     "execution_count": 39,
     "metadata": {},
     "output_type": "execute_result"
    }
   ],
   "source": [
    "data.shape"
   ]
  },
  {
   "cell_type": "code",
   "execution_count": 54,
   "id": "ee1606ac-d8c2-4718-b042-2f4aa43f1adc",
   "metadata": {},
   "outputs": [
    {
     "data": {
      "text/plain": [
       "'âœ… trip verified | flew on turkish airlines iad-ist-khi and return khi-ist-iad. turkish airlines has consistently maintained its quality since i first flew with them in 2007. the flights leave on time, the catering is excellent, the inflight entertainment is extensive and the interface easy to use, and the cabin crew is excellent. interesting though the a330 on the khi-ist route and return seemed to have more leg room and was newer than the a330 on the iad-ist route which was showing its age. the a330 on the iad-ist route had a slow responding interface for the inflight entertainment and a broken table on the return flight. but turkish airlines will be replacing the a330 on its flight to iad with the 787 sometime in the summer. turkish food was served on the return leg which i personally like, and i saw the cabin staff helping elderly passengers walk to the lavatory which was nice. overall another wonderful experience with turkish airlines.'"
      ]
     },
     "execution_count": 54,
     "metadata": {},
     "output_type": "execute_result"
    }
   ],
   "source": [
    "data['customer_review'] = data['customer_review'].str.lower()  # Customer review to lower register\n",
    "data['customer_review'].head(5)[7]"
   ]
  },
  {
   "cell_type": "code",
   "execution_count": 65,
   "id": "94b8b5bc-d8b1-4c55-ac26-5619c97bd055",
   "metadata": {},
   "outputs": [],
   "source": [
    "data['cleaned_review'] = data['customer_review'].apply(clean_text) # remove symbols from text\n",
    "data['cleaned_review'] = data['customer_review'].apply(remove_stopwords)  # remove stop words from text\n",
    "data['cleaned_review'] = data['customer_review'].apply(remove_special_chars)  # remove special symbols from text"
   ]
  },
  {
   "cell_type": "code",
   "execution_count": 66,
   "id": "ee14eb05-69b0-49d7-ac9a-4f5c16aaadaf",
   "metadata": {},
   "outputs": [
    {
     "data": {
      "text/plain": [
       "' trip verified | flew on turkish airlines iad-ist-khi and return khi-ist-iad. turkish airlines has consistently maintained its quality since i first flew with them in 2007. the flights leave on time, the catering is excellent, the inflight entertainment is extensive and the interface easy to use, and the cabin crew is excellent. interesting though the a330 on the khi-ist route and return seemed to have more leg room and was newer than the a330 on the iad-ist route which was showing its age. the a330 on the iad-ist route had a slow responding interface for the inflight entertainment and a broken table on the return flight. but turkish airlines will be replacing the a330 on its flight to iad with the 787 sometime in the summer. turkish food was served on the return leg which i personally like, and i saw the cabin staff helping elderly passengers walk to the lavatory which was nice. overall another wonderful experience with turkish airlines.'"
      ]
     },
     "execution_count": 66,
     "metadata": {},
     "output_type": "execute_result"
    }
   ],
   "source": [
    "data['cleaned_review'][7]"
   ]
  },
  {
   "cell_type": "code",
   "execution_count": 67,
   "id": "a73eed69-f017-453e-9596-49e09deb7fce",
   "metadata": {},
   "outputs": [],
   "source": [
    "data.to_csv('../data/processed/cleaned_data.csv', index=False)"
   ]
  },
  {
   "cell_type": "code",
   "execution_count": null,
   "id": "555b44e5-cefc-4bc6-a75a-8224ce4fa6a9",
   "metadata": {},
   "outputs": [],
   "source": []
  }
 ],
 "metadata": {
  "kernelspec": {
   "display_name": "Python 3 (ipykernel)",
   "language": "python",
   "name": "python3"
  },
  "language_info": {
   "codemirror_mode": {
    "name": "ipython",
    "version": 3
   },
   "file_extension": ".py",
   "mimetype": "text/x-python",
   "name": "python",
   "nbconvert_exporter": "python",
   "pygments_lexer": "ipython3",
   "version": "3.9.21"
  }
 },
 "nbformat": 4,
 "nbformat_minor": 5
}
